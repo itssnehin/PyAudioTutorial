{
 "cells": [
  {
   "cell_type": "markdown",
   "id": "e5ad1cd7-c41b-455b-bb57-f69834cf104b",
   "metadata": {},
   "source": [
    "# Getting Started with PyAudio\n",
    "An attempt at interfacing with audio peripherals in Windows"
   ]
  },
  {
   "cell_type": "code",
   "execution_count": 1,
   "id": "319a7ec4-5f4f-4085-931e-f62f1bd04c70",
   "metadata": {},
   "outputs": [],
   "source": [
    "import pyaudio # a good way to start\n",
    "import numpy # usefull for creating objects that will be processed\n",
    "import wave # read/write audio files .wav"
   ]
  },
  {
   "cell_type": "code",
   "execution_count": 2,
   "id": "446267dd-c4c1-49d9-be4c-12d8ecc42823",
   "metadata": {},
   "outputs": [
    {
     "data": {
      "text/plain": [
       "1246976"
      ]
     },
     "execution_count": 2,
     "metadata": {},
     "output_type": "execute_result"
    }
   ],
   "source": [
    "pyaudio.get_portaudio_version() #check if PyAudio is installed correctly"
   ]
  },
  {
   "cell_type": "code",
   "execution_count": 3,
   "id": "16224a58-dcdb-454e-80a3-9195581453c2",
   "metadata": {},
   "outputs": [
    {
     "data": {
      "text/plain": [
       "{'index': 0,\n",
       " 'structVersion': 1,\n",
       " 'type': 2,\n",
       " 'name': 'MME',\n",
       " 'deviceCount': 4,\n",
       " 'defaultInputDevice': 1,\n",
       " 'defaultOutputDevice': 3}"
      ]
     },
     "execution_count": 3,
     "metadata": {},
     "output_type": "execute_result"
    }
   ],
   "source": [
    "pa = pyaudio.PyAudio() # create a PyAudio instance\n",
    "pa.get_default_host_api_info()"
   ]
  },
  {
   "cell_type": "code",
   "execution_count": 4,
   "id": "8d0d4ea8-c3af-41b9-b27e-c31e35c203cb",
   "metadata": {},
   "outputs": [
    {
     "name": "stdout",
     "output_type": "stream",
     "text": [
      "{'index': 0, 'structVersion': 1, 'type': 2, 'name': 'MME', 'deviceCount': 4, 'defaultInputDevice': 1, 'defaultOutputDevice': 3}\n",
      "{'index': 1, 'structVersion': 1, 'type': 1, 'name': 'Windows DirectSound', 'deviceCount': 4, 'defaultInputDevice': 4, 'defaultOutputDevice': 6}\n",
      "{'index': 2, 'structVersion': 1, 'type': 3, 'name': 'ASIO', 'deviceCount': 0, 'defaultInputDevice': -1, 'defaultOutputDevice': -1}\n",
      "{'index': 3, 'structVersion': 1, 'type': 13, 'name': 'Windows WASAPI', 'deviceCount': 2, 'defaultInputDevice': 9, 'defaultOutputDevice': 8}\n",
      "{'index': 4, 'structVersion': 1, 'type': 11, 'name': 'Windows WDM-KS', 'deviceCount': 16, 'defaultInputDevice': 10, 'defaultOutputDevice': 14}\n"
     ]
    }
   ],
   "source": [
    "# Check for any other audio interfaces\n",
    "for id in range(pa.get_host_api_count()):\n",
    "    print(pa.get_host_api_info_by_index(id))"
   ]
  },
  {
   "cell_type": "code",
   "execution_count": 5,
   "id": "664b9a0e-a709-4fe0-abce-ed06a2fe3caf",
   "metadata": {},
   "outputs": [
    {
     "data": {
      "text/plain": [
       "{'index': 3,\n",
       " 'structVersion': 2,\n",
       " 'name': 'Speakers (Realtek(R) Audio)',\n",
       " 'hostApi': 0,\n",
       " 'maxInputChannels': 0,\n",
       " 'maxOutputChannels': 2,\n",
       " 'defaultLowInputLatency': 0.09,\n",
       " 'defaultLowOutputLatency': 0.09,\n",
       " 'defaultHighInputLatency': 0.18,\n",
       " 'defaultHighOutputLatency': 0.18,\n",
       " 'defaultSampleRate': 44100.0}"
      ]
     },
     "execution_count": 5,
     "metadata": {},
     "output_type": "execute_result"
    }
   ],
   "source": [
    "pa.get_default_output_device_info() #check the default audio output device"
   ]
  },
  {
   "cell_type": "code",
   "execution_count": 6,
   "id": "4f897133-0c46-4e9c-a098-647d4208e9d0",
   "metadata": {},
   "outputs": [
    {
     "data": {
      "text/plain": [
       "{'index': 1,\n",
       " 'structVersion': 2,\n",
       " 'name': 'Microphone Array (Intel® Smart ',\n",
       " 'hostApi': 0,\n",
       " 'maxInputChannels': 4,\n",
       " 'maxOutputChannels': 0,\n",
       " 'defaultLowInputLatency': 0.09,\n",
       " 'defaultLowOutputLatency': 0.09,\n",
       " 'defaultHighInputLatency': 0.18,\n",
       " 'defaultHighOutputLatency': 0.18,\n",
       " 'defaultSampleRate': 44100.0}"
      ]
     },
     "execution_count": 6,
     "metadata": {},
     "output_type": "execute_result"
    }
   ],
   "source": [
    "pa.get_default_input_device_info()"
   ]
  },
  {
   "cell_type": "markdown",
   "id": "edf9873f-2fcf-4f45-99ec-9294060c23b2",
   "metadata": {},
   "source": [
    "# Record Audio samples from the input"
   ]
  },
  {
   "cell_type": "code",
   "execution_count": 7,
   "id": "733364f1-ed33-4acc-872f-640c0d32294c",
   "metadata": {},
   "outputs": [],
   "source": [
    "stream_in = pa.open (\n",
    "    rate = 48000,\n",
    "    channels = 2,\n",
    "    format=pyaudio.paInt16,\n",
    "    input = True,\n",
    "    input_device_index=1,\n",
    "    frames_per_buffer=1024\n",
    ")\n",
    "\n",
    "# read 5 seconds of the input stream\n",
    "dur = 5\n",
    "fs = 48000\n",
    "rec = dur * fs\n",
    "input_audio = stream_in.read(rec)"
   ]
  },
  {
   "cell_type": "markdown",
   "id": "13a7cb9a-6075-4d1c-a72b-a90dea0c34f0",
   "metadata": {},
   "source": [
    "# Save the output to a wav file"
   ]
  },
  {
   "cell_type": "code",
   "execution_count": 11,
   "id": "3c385f8a-2380-4475-ad98-2478742cd148",
   "metadata": {},
   "outputs": [],
   "source": [
    "output_filename = 'audio-recording.wav'\n",
    "wav_file = wave.open(output_filename, 'wb')\n",
    "\n",
    "# define audio stream properties\n",
    "wav_file.setnchannels(2) # number of channels\n",
    "wav_file.setsampwidth(2) #sample width in bytes\n",
    "wav_file.setframerate(fs) # sample rate in Hz\n",
    "\n",
    "#write samples to the file\n",
    "wav_file.writeframes(input_audio)\n",
    "wav_file.close()"
   ]
  },
  {
   "cell_type": "markdown",
   "id": "9f0a3a08-0e68-49dd-99ee-2416a4d262eb",
   "metadata": {},
   "source": [
    "# Audio PlayBack"
   ]
  },
  {
   "cell_type": "code",
   "execution_count": 12,
   "id": "10b89e9d-9012-4ac1-948d-fa7479a93ba6",
   "metadata": {},
   "outputs": [],
   "source": [
    "wav_rec = wave.open('audio-recording.wav')\n",
    "stream_out = pa.open(\n",
    "    rate=wav_rec.getframerate(), # sampling rate\n",
    "    channels = wav_rec.getnchannels(), # number of output channels\n",
    "    format=pa.get_format_from_width(wav_rec.getsampwidth()),\n",
    "    output=True,\n",
    "    output_device_index = 3,\n",
    "    frames_per_buffer=1024,\n",
    ")"
   ]
  },
  {
   "cell_type": "code",
   "execution_count": 13,
   "id": "3767959a-e72e-4e9e-8209-eec68c4d3f92",
   "metadata": {},
   "outputs": [],
   "source": [
    "output_audio = wav_rec.readframes(5*wav_file.getframerate())\n",
    "stream_out.write(output_audio)"
   ]
  },
  {
   "cell_type": "code",
   "execution_count": null,
   "id": "fc7857dd-61e0-47a7-9b0a-edd79e63908b",
   "metadata": {},
   "outputs": [],
   "source": []
  }
 ],
 "metadata": {
  "kernelspec": {
   "display_name": "Python 3 (ipykernel)",
   "language": "python",
   "name": "python3"
  },
  "language_info": {
   "codemirror_mode": {
    "name": "ipython",
    "version": 3
   },
   "file_extension": ".py",
   "mimetype": "text/x-python",
   "name": "python",
   "nbconvert_exporter": "python",
   "pygments_lexer": "ipython3",
   "version": "3.9.6"
  }
 },
 "nbformat": 4,
 "nbformat_minor": 5
}
